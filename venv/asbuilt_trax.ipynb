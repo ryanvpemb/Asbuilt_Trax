{
 "cells": [
  {
   "cell_type": "code",
   "execution_count": 2,
   "metadata": {},
   "outputs": [],
   "source": [
    "import psycopg2\n",
    "import pandas as pd\n",
    "import numpy as np\n",
    "import matplotlib.pyplot as plt\n",
    "\n",
    "con = psycopg2.connect(\"dbname=asbuilt_trax user=postgres host=localhost port=5432\")"
   ]
  },
  {
   "cell_type": "code",
   "execution_count": 9,
   "metadata": {},
   "outputs": [],
   "source": [
    "def sql_to_df(sql_query: str):\n",
    "    \"\"\"Get result set of sql_query as a pandas DataFrame.\"\"\"\n",
    "    return pd.read_sql(sql_query, con)\n",
    "\n",
    "\n",
    "\n",
    "title = \"As-builts by Crew Leader\"\n",
    "query = \"\"\"\n",
    "        SELECT COUNT(a.*) as count, c.name\n",
    "        FROM asbuilts a\n",
    "        JOIN crew_leaders c\n",
    "        ON a.crew_leader_id = c.pk_id\n",
    "        GROUP BY c.name\n",
    "        ORDER BY count desc;\n",
    "        \"\"\""
   ]
  },
  {
   "cell_type": "code",
   "execution_count": 15,
   "metadata": {},
   "outputs": [
    {
     "name": "stderr",
     "output_type": "stream",
     "text": [
      "/Users/rpemb/.pyenv/versions/3.9.4/lib/python3.9/site-packages/pandas/io/sql.py:758: UserWarning: pandas only support SQLAlchemy connectable(engine/connection) ordatabase string URI or sqlite3 DBAPI2 connectionother DBAPI2 objects are not tested, please consider using SQLAlchemy\n",
      "  warnings.warn(\n"
     ]
    },
    {
     "data": {
      "image/png": "[encoded data removed]",
      "text/plain": [
       "<Figure size 720x360 with 1 Axes>"
      ]
     },
     "metadata": {
      "needs_background": "light"
     },
     "output_type": "display_data"
    }
   ],
   "source": [
    "dataframe = sql_to_df(query)\n",
    "_fig, axes = plt.subplots(figsize=(10, 5))\n",
    "axes.set_title(title, fontsize=14)\n",
    "\n",
    "# get evenly spaced x-axis positions\n",
    "xpos = np.arange(len(dataframe))\n",
    "# at each x, add bar (height based on count data)\n",
    "axes.bar(xpos, dataframe[\"count\"], width=0.5)\n",
    "# at each x, add tick mark\n",
    "axes.set_xticks(xpos)\n",
    "# at each x, add label based on dept data\n",
    "axes.set_xticklabels(dataframe[\"name\"])\n",
    "# label y-axisre\n",
    "axes.set_ylabel(\"Count\", fontsize=12)\n",
    "# rotate x-axis labels to prevent overlap\n",
    "plt.setp(axes.get_xticklabels(), rotation=30, horizontalalignment='right')\n",
    "\n",
    "plt.show()"
   ]
  }
 ],
 "metadata": {
  "kernelspec": {
   "display_name": "Python 3",
   "language": "python",
   "name": "python3"
  },
  "language_info": {
   "codemirror_mode": {
    "name": "ipython",
    "version": 3
   },
   "file_extension": ".py",
   "mimetype": "text/x-python",
   "name": "python",
   "nbconvert_exporter": "python",
   "pygments_lexer": "ipython3",
   "version": "3.7.6"
  }
 },
 "nbformat": 4,
 "nbformat_minor": 4
}
